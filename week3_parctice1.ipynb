{
 "cells": [
  {
   "cell_type": "markdown",
   "metadata": {},
   "source": [
    "# MAE 6286: week 3 class practice 1"
   ]
  },
  {
   "cell_type": "markdown",
   "metadata": {},
   "source": [
    "## Make things work first"
   ]
  },
  {
   "cell_type": "markdown",
   "metadata": {},
   "source": [
    "The first stage of code and software development is alway to ***make it work***. So before you go home and read/learn the beauty of Python in [lesson 3 notebook](https://nbviewer.jupyter.org/github/numerical-mooc/numerical-mooc/blob/5a894f2c7c525a0a4bd5809bb78ba72ca616c40f/lessons/01_phugoid/01_03_PhugoidFullModel.ipynb), let's write some code that may not look elegant but can do the job, which is to solve the full phugoid motion with Euler method.\n",
    "\n",
    "Once you finish the practice in this notebook, you then can go back to the lesson 3 notebook again and learn how to improve your code here with:\n",
    "\n",
    "* `function`\n",
    "* slicing with a `numpy` array\n",
    "* array arithmetic\n",
    "\n",
    "You can also how to make the figures nicer with more functions from `pyplot`."
   ]
  },
  {
   "cell_type": "markdown",
   "metadata": {},
   "source": [
    "### Full phugoid motion model"
   ]
  },
  {
   "cell_type": "markdown",
   "metadata": {},
   "source": [
    "Here's the equation of full phugoid motion."
   ]
  },
  {
   "cell_type": "markdown",
   "metadata": {},
   "source": [
    "\\begin{equation}\n",
    "\\left\\{\n",
    "\\begin{aligned}\n",
    "&v' = -g\\sin{\\theta} - \\frac{C_D}{C_L}\\frac{g}{v_t^2}v^2 \\\\\n",
    "&\\theta' = -\\frac{g}{v}\\cos{\\theta} + \\frac{g}{v_t^2}v \\\\\n",
    "&x' = v\\cos{\\theta} \\\\\n",
    "&y' = v\\sin{\\theta}\n",
    "\\end{aligned}\n",
    "\\right.\n",
    "\\end{equation}"
   ]
  },
  {
   "cell_type": "markdown",
   "metadata": {},
   "source": [
    "And initial condition (i.e., the values of $v$, $\\theta$, $x$, and $y$ at time $t=0$):"
   ]
  },
  {
   "cell_type": "markdown",
   "metadata": {},
   "source": [
    "\\begin{equation}\n",
    "\\left\\{\n",
    "\\begin{aligned}\n",
    "&v(0) = v_0 \\\\\n",
    "&\\theta(0) = \\theta_0 \\\\\n",
    "&x(0) = x_0 \\\\\n",
    "&y(0) = y_0 \n",
    "\\end{aligned}\n",
    "\\right.\n",
    "\\end{equation}"
   ]
  },
  {
   "cell_type": "markdown",
   "metadata": {},
   "source": [
    "### Euler method"
   ]
  },
  {
   "cell_type": "markdown",
   "metadata": {},
   "source": [
    "To solve the system of ODE of the full phugoid motion with Euler method, we re-write the eqautions:"
   ]
  },
  {
   "cell_type": "markdown",
   "metadata": {},
   "source": [
    "\\begin{equation}\n",
    "\\mathbf{u}^{n+1} = \\mathbf{u}^n + \\Delta t \\cdot f(\\mathbf{u^n})\n",
    "\\end{equation}"
   ]
  },
  {
   "cell_type": "markdown",
   "metadata": {},
   "source": [
    "where"
   ]
  },
  {
   "cell_type": "markdown",
   "metadata": {},
   "source": [
    "\\begin{equation}\n",
    "\\mathbf{u}^n =\n",
    "\\left[\n",
    "\\begin{array}{c}\n",
    "v^n \\\\\n",
    "\\theta^n \\\\\n",
    "x^n \\\\\n",
    "y^n\n",
    "\\end{array}\n",
    "\\right]\n",
    "\\text{, }\n",
    "\\mathbf{u}^{n+1} =\n",
    "\\left[\n",
    "\\begin{array}{c}\n",
    "v^{n+1} \\\\\n",
    "\\theta^{n+1} \\\\\n",
    "x^{n+1} \\\\\n",
    "y^{n+1}\n",
    "\\end{array}\n",
    "\\right]\n",
    "\\text{, and }\n",
    "f(\\mathbf{u}^n) = \n",
    "\\left[\n",
    "\\begin{array}{c}\n",
    "-g\\sin{\\theta^n} - \\frac{C_D}{C_L}\\frac{g}{v_t^2}\\left(v^n\\right)^2 \\\\\n",
    "-\\frac{g}{v^n}\\cos{\\theta^n} + \\frac{g}{v_t^2}v^n \\\\\n",
    "v^n\\cos{\\theta^n} \\\\\n",
    "v^n\\sin{\\theta^n}\n",
    "\\end{array}\n",
    "\\right]\n",
    "\\end{equation}"
   ]
  },
  {
   "cell_type": "markdown",
   "metadata": {},
   "source": [
    "### Import packages\n",
    "\n",
    "In this practice, we'll use the `numpy` package and the sub-package `pyplot` from `matplotlib`."
   ]
  },
  {
   "cell_type": "code",
   "execution_count": 1,
   "metadata": {},
   "outputs": [],
   "source": [
    "import numpy\n",
    "from matplotlib import pyplot\n",
    "% matplotlib inline"
   ]
  },
  {
   "cell_type": "markdown",
   "metadata": {},
   "source": [
    "## Part A. Implement a full phugoid motion solver with Euler method"
   ]
  },
  {
   "cell_type": "markdown",
   "metadata": {},
   "source": [
    "### Set up constants"
   ]
  },
  {
   "cell_type": "markdown",
   "metadata": {},
   "source": [
    "There are several constants we need to provide to the full phugoid motion model: gravity acceleration, drag coefficient, lift coefficient, and trim velocity.\n",
    "\n",
    "In the code cell below, complete the code by assigning the following values to the corresponding variables:\n",
    "* gravity acceleration: 9.81 m/s^2\n",
    "* drag coefficient: 1.0 / 40.0\n",
    "* lift coefficient: 1.0\n",
    "* trim velocity: 30 m/s"
   ]
  },
  {
   "cell_type": "code",
   "execution_count": 2,
   "metadata": {},
   "outputs": [],
   "source": [
    "# gravity acceleration; unit: m/s^2\n",
    "g = 9.81\n",
    "\n",
    "# drag coefficient; dimensionless\n",
    "CD = 1.0 / 40.0\n",
    "\n",
    "# drag coefficient; dimensionless\n",
    "CL = 1.0\n",
    "\n",
    "# trim velocity; unit: m / s\n",
    "vt = 30"
   ]
  },
  {
   "cell_type": "markdown",
   "metadata": {},
   "source": [
    "Now if you look carefully into the equations, you should find that the equations don't really use the trim velocity $v_t$ at all. Instead, it uses the square of the trim velocity, $v_t^2$. So let's define another constant for the square of the trim velocity, and we won't have to calculate the square everytime."
   ]
  },
  {
   "cell_type": "markdown",
   "metadata": {},
   "source": [
    "**Hint**: do not assigne a scalar value directly to the variable; try to use the `vt` variable defined above."
   ]
  },
  {
   "cell_type": "code",
   "execution_count": 3,
   "metadata": {},
   "outputs": [],
   "source": [
    "# the square of the trim velocity; do not assign value directly; \n",
    "vt2 = vt**2"
   ]
  },
  {
   "cell_type": "markdown",
   "metadata": {},
   "source": [
    "Now we need to determine the values for the initial conditions, i.e., $v_0$, $\\theta_0$, $x_0$, and $y_0$. In this practice, we use:\n",
    "* $v_0$ is equal to the trim velocity (unit: m/s)\n",
    "* $\\theta_0 = 0.0$ (unit: rad)\n",
    "* $x_0 = 0.0$ (unit: m)\n",
    "* $y_0 = 1000.0$ (unit: m)"
   ]
  },
  {
   "cell_type": "code",
   "execution_count": 4,
   "metadata": {},
   "outputs": [],
   "source": [
    "# velocity at t = 0s; unit: m / s\n",
    "v0 = vt\n",
    "\n",
    "# angle between trajectory and horizontal at t = 0s; unit: rad\n",
    "theta0 = 0.0\n",
    "\n",
    "# x-coordinate at t = 0s; unit: m\n",
    "x0 = 0.0\n",
    "\n",
    "# y-coordinate at t = 0s; unit: m\n",
    "y0 = 1000.0"
   ]
  },
  {
   "cell_type": "markdown",
   "metadata": {},
   "source": [
    "We need to determine how long our phugoid motion lasts, that is, the final time $T$. In this practice, we want the final time $T$ to be $100$ (in seconds). And we also want to know the varaible values at every $0.1$ second, i.e., $\\Delta t=0.1$. In other words, at the end of the phugoid motion calculation, we should have the values of $v$, $\\theta$, $x$, and $y$ at $t=0,\\ 0.1,\\ 0.2,\\ 0.3,\\ \\dots,\\ 99.8,\\ 99.9,\\ 100$."
   ]
  },
  {
   "cell_type": "code",
   "execution_count": 5,
   "metadata": {},
   "outputs": [],
   "source": [
    "# final T\n",
    "T = 100.0\n",
    "\n",
    "# time step\n",
    "dt = .1\n",
    "\n",
    "# the number of time steps from t=0 to t=100\n",
    "N = int( T / dt ) + 1"
   ]
  },
  {
   "cell_type": "markdown",
   "metadata": {},
   "source": [
    "Next, we want to have an array to hold all variable values at all time points. We know there will be $N$ time points on the timeline, and we know at each time point we have $4$ values (i.e., $v$, $\\theta$, $x$, & $y$). This implies that we can use a $N$ by $4$ 2D array to hold the values. When we create the array, we don't have to worry about the values in the array, because we will update the array with correct values in Euler method. So let's simply use [`numpy.zeros`](https://docs.scipy.org/doc/numpy/reference/generated/numpy.zeros.html) to create such an array."
   ]
  },
  {
   "cell_type": "code",
   "execution_count": 6,
   "metadata": {},
   "outputs": [],
   "source": [
    "# an array to hold variables at each time point\n",
    "u = numpy.zeros( ( N, 4 ) )"
   ]
  },
  {
   "cell_type": "markdown",
   "metadata": {},
   "source": [
    "When we try to access a value in the 2D array `u` above, we need two indices: the first index represents the time point, and the second index represents which variable. For example, if we want to access the $x$ coordinate at the seventh time point (i.e., $t=6\\Delta t$), we can use `u[6, 2]` to get the value. Note in Python, indices start from $0$."
   ]
  },
  {
   "cell_type": "markdown",
   "metadata": {},
   "source": [
    "Now, assign the initial conditions to the corresponding indices in the array `u`."
   ]
  },
  {
   "cell_type": "code",
   "execution_count": 7,
   "metadata": {},
   "outputs": [],
   "source": [
    "# assign v0 to the correct index in u\n",
    "u[ 0, 0 ] = v0\n",
    "\n",
    "# assign theta0 to the correct index in u\n",
    "u[ 0, 1 ] = theta0\n",
    "\n",
    "# assign x0 to the correct index in u\n",
    "u[ 0, 2 ] = x0\n",
    "\n",
    "# assign y0 to the correct index in u\n",
    "u[ 0, 3 ] = y0"
   ]
  },
  {
   "cell_type": "markdown",
   "metadata": {},
   "source": [
    "Now let's update the values at $n=1,\\ 2,\\ 3,\\ \\dots,\\ N-1$, which represent the time points at $t=0.1,\\ 0.2,\\ \\dots,\\ T$. We use Euler method here."
   ]
  },
  {
   "cell_type": "code",
   "execution_count": 8,
   "metadata": {},
   "outputs": [],
   "source": [
    "# iteration through Euler method\n",
    "# the loop should loop through n=0, 1, 2, ..., N-2\n",
    "for n in range( N - 1 ):\n",
    "\n",
    "    # extract v at the n-th time point from the array u\n",
    "    v_n = u[ n, 0 ]\n",
    "    \n",
    "    # extract theta at the n-th time point from the array u\n",
    "    theta_n = u[ n, 1 ]\n",
    "    \n",
    "    # extract x at the n-th time point from the array u\n",
    "    x_n = u[ n, 2 ]\n",
    "    \n",
    "    # extract y at the n-th time point from the array u\n",
    "    y_n = u[ n, 3 ]\n",
    "\n",
    "    # f(u^n) in the right-hand-side\n",
    "    f_n = numpy.array([\n",
    "        -g * numpy.sin( theta_n ) - ( ( CD / CL ) * ( g / vt2 ) * (v_n**2) ),\n",
    "        ( -g / v_n ) * numpy.cos( theta_n ) + ( ( g / vt2 ) * v_n ),\n",
    "        v_n * numpy.cos( theta_n ),\n",
    "        v_n * numpy.sin( theta_n )\n",
    "    ])\n",
    "\n",
    "    # update values at n+1 by Euler method: u^{n+1} = u^{n} + dt * f(u^{n})\n",
    "    u[ n + 1 ] = u[ n ] + dt * f_n\n",
    "#     u_temp = u[ n ] + ( dt / 2 ) * f_n\n",
    "#     u[ n + 1 ] = u[ n ] + dt * f_n"
   ]
  },
  {
   "cell_type": "markdown",
   "metadata": {},
   "source": [
    "We should now have values at all time steps. Let's plot the $x$ and $y$ coordinates of the flight! Here we use slicing techniques to do the plotting. But the main purpose of this practice is to understand the logic of Euler method and to learn how to write a ODE solver from scratch, so I'll do the slicing and plotting for you. After executing the next cell, you should be able to see the plot, and the plot should be exactly the same as the one in lesson 3 notebook."
   ]
  },
  {
   "cell_type": "code",
   "execution_count": 9,
   "metadata": {},
   "outputs": [
    {
     "data": {
      "image/png": "[encoded data removed]",
      "text/plain": [
       "<Figure size 432x288 with 1 Axes>"
      ]
     },
     "metadata": {},
     "output_type": "display_data"
    }
   ],
   "source": [
    "pyplot.plot(u[:, 2], u[:, 3]);"
   ]
  },
  {
   "cell_type": "markdown",
   "metadata": {},
   "source": [
    "## Part B. Calculate the order of convergence"
   ]
  },
  {
   "cell_type": "markdown",
   "metadata": {},
   "source": [
    "We know the numerical error of Euler method is propotional to the size of $\\Delta t$. That implies if we have a solution calculated with $\\Delta t$, and now we calculate a new solution with $\\Delta t_{new}=\\frac{1}{2}\\Delta t$, we should see the error reduces by a factor of 2.\n",
    "\n",
    "But to calculate the error, we need to know tho analytical solution, which may not be known to us. So we also learned how to calculate the order of convergence, $p$, with anther method:"
   ]
  },
  {
   "cell_type": "markdown",
   "metadata": {},
   "source": [
    "\\begin{equation}\n",
    "p = \\frac{log_{10}\\frac{f_3-f_2}{f_2-f_1}}{log_{10}r}\n",
    "\\end{equation}"
   ]
  },
  {
   "cell_type": "markdown",
   "metadata": {},
   "source": [
    "where $f_1$, $f_2$, and $f_3$ represent the solutions with the smallest, medium, and largest $\\Delta t$. And $r$ is the ratio between the $\\Delta t$. That is, $\\Delta t_{smallest}=\\frac{1}{r}\\Delta t_{medium}$, and $\\Delta t_{medium}=\\frac{1}{r}\\Delta t_{largest}$. And"
   ]
  },
  {
   "cell_type": "markdown",
   "metadata": {},
   "source": [
    "\\begin{equation}\n",
    "\\left\\{\n",
    "\\begin{aligned}\n",
    "f_3-f_2=\\sum_{n=0}^{N_3-1}\\Delta t_3\\left(abs(v_3^n-v_2^{r\\cdot n})+abs(\\theta_3^n-\\theta_2^{r\\cdot n})+abs(x_3^n-x_2^{r\\cdot n})+abs(y_3^n-y_2^{r\\cdot n})\\right) \\\\\n",
    "f_2-f_1=\\sum_{n=0}^{N_2-1}\\Delta t_2\\left(abs(v_2^n-v_1^{r\\cdot n})+abs(\\theta_2^n-\\theta_1^{r\\cdot n})+abs(x_2^n-x_1^{r\\cdot n})+abs(y_2^n-y_1^{r\\cdot n})\\right) \\\\\n",
    "\\end{aligned}\n",
    "\\right.\n",
    "\\end{equation}"
   ]
  },
  {
   "cell_type": "markdown",
   "metadata": {},
   "source": [
    "Now use the logic developed in Part A to calculate the order of convergence, $p$, by completing the following code."
   ]
  },
  {
   "cell_type": "code",
   "execution_count": 20,
   "metadata": {},
   "outputs": [],
   "source": [
    "# ratio\n",
    "r = 2\n",
    "\n",
    "# time steps\n",
    "dt_coarsest = 0.004\n",
    "dt_medium = ( 1 / r ) * dt_coarsest\n",
    "dt_finest = ( 1 / r ) * dt_medium\n",
    "\n",
    "# N for different time step sizes\n",
    "N_coarsest = int( T / dt_coarsest ) + 1\n",
    "N_medium = int( T / dt_medium ) + 1\n",
    "N_finest = int( T / dt_finest ) + 1\n",
    "\n",
    "# initial u arrays holding variables to all time points\n",
    "u_coarsest = numpy.zeros( ( N_coarsest, 4 ) )\n",
    "u_medium = numpy.zeros( ( N_medium, 4 ) )\n",
    "u_finest = numpy.zeros( ( N_finest, 4 ) )\n",
    "\n",
    "# assign initial conditions to correct locations in u_coarsest, u_medium, and u_finest\n",
    "u_coarsest[ 0, 0 ] = v0\n",
    "u_coarsest[ 0, 1 ] = theta0\n",
    "u_coarsest[ 0, 2 ] = x0\n",
    "u_coarsest[ 0, 3 ] = y0\n",
    "\n",
    "u_medium[ 0, 0 ] = v0\n",
    "u_medium[ 0, 1 ] = theta0\n",
    "u_medium[ 0, 2 ] = x0\n",
    "u_medium[ 0, 3 ] = y0\n",
    "\n",
    "u_finest[ 0, 0 ] = v0\n",
    "u_finest[ 0, 1 ] = theta0\n",
    "u_finest[ 0, 2 ] = x0\n",
    "u_finest[ 0, 3 ] = y0\n",
    "\n",
    "# iteration through Euler method for dt_coarsest\n",
    "# n = 0, 1, 2, ..., N_coarsest-2\n",
    "for n in range( N_coarsest - 1 ):\n",
    "\n",
    "    v_n = u_coarsest[ n, 0 ]\n",
    "    theta_n = u_coarsest[ n, 1 ]\n",
    "    x_n = u_coarsest[ n, 2 ]\n",
    "    y_n = u_coarsest[ n, 3 ]\n",
    "\n",
    "    f_coarsest_n = numpy.array([\n",
    "        -g * numpy.sin( theta_n ) - ( ( CD / CL ) * ( g / vt2 ) * (v_n**2) ),\n",
    "        ( -g / v_n ) * numpy.cos( theta_n ) + ( ( g / vt2 ) * v_n ),\n",
    "        v_n * numpy.cos( theta_n ),\n",
    "        v_n * numpy.sin( theta_n )\n",
    "    ])\n",
    "    \n",
    "    u_coarsest[ n + 1 ] = u_coarsest[ n ] + dt_coarsest * f_coarsest_n\n",
    "\n",
    "# iteration through Euler method for dt_medium\n",
    "# n = 0, 1, 2, ..., N_medium-2\n",
    "for n in range( N_medium - 1 ):\n",
    "\n",
    "    v_n = u_medium[ n, 0 ]\n",
    "    theta_n = u_medium[ n, 1 ]\n",
    "    x_n = u_medium[ n, 2 ]\n",
    "    y_n = u_medium[ n, 3 ]\n",
    "\n",
    "    f_medium_n = numpy.array([\n",
    "        -g * numpy.sin( theta_n ) - ( ( CD / CL ) * ( g / vt2 ) * (v_n**2) ),\n",
    "        ( -g / v_n ) * numpy.cos( theta_n ) + ( ( g / vt2 ) * v_n ),\n",
    "        v_n * numpy.cos( theta_n ),\n",
    "        v_n * numpy.sin( theta_n )\n",
    "    ])\n",
    "    \n",
    "    u_medium[ n + 1 ] = u_medium[ n ] + dt_medium * f_medium_n\n",
    "\n",
    "# iteration through Euler method for dt_finest\n",
    "# n = 0, 1, 2, ..., N_finest-2\n",
    "for n in range( N_finest - 1 ):\n",
    "\n",
    "    v_n = u_finest[ n, 0 ]\n",
    "    theta_n = u_finest[ n, 1 ]\n",
    "    x_n = u_finest[ n, 2 ]\n",
    "    y_n = u_finest[ n, 3 ]\n",
    "\n",
    "    f_finest_n = numpy.array([\n",
    "        -g * numpy.sin( theta_n ) - ( ( CD / CL ) * ( g / vt2 ) * (v_n**2) ),\n",
    "        ( -g / v_n ) * numpy.cos( theta_n ) + ( ( g / vt2 ) * v_n ),\n",
    "        v_n * numpy.cos( theta_n ),\n",
    "        v_n * numpy.sin( theta_n )\n",
    "    ])\n",
    "    \n",
    "    u_finest[ n + 1 ] = u_finest[ n ] + dt_finest * f_finest_n\n",
    "\n"
   ]
  },
  {
   "cell_type": "markdown",
   "metadata": {},
   "source": [
    "We now have $f_1$, $f_2$, and $f_3$, which are the `u_finest`, `u_medium`, and `u_coarsest` in our code. Let try to calculate $f_3-f_2$ and $f_2-f_1$."
   ]
  },
  {
   "cell_type": "code",
   "execution_count": 64,
   "metadata": {},
   "outputs": [],
   "source": [
    "# initialize the variable f32 with zero to represent f3-f2\n",
    "f32 = 0.0"
   ]
  },
  {
   "cell_type": "code",
   "execution_count": 65,
   "metadata": {},
   "outputs": [],
   "source": [
    "# loop through n=0, 1, ..., N_coarsest-1 to sum up the difference in solutions\n",
    "for n in range(N_coarsest):\n",
    "    \n",
    "    # add the absolute value between v with largest and medium dt at time point n\n",
    "    f32 = f32 + numpy.abs(u_coarsest[n, 0] - u_medium[2*n, 0])\n",
    "    \n",
    "    f32 = f32 + numpy.abs(u_coarsest[n, 1] - u_medium[2*n, 1]) +  numpy.abs(u_coarsest[n, 2] - u_medium[2*n, 2])\n",
    "    + numpy.abs(u_coarsest[n, 3] - u_medium[2*n, 3])"
   ]
  },
  {
   "cell_type": "code",
   "execution_count": 66,
   "metadata": {},
   "outputs": [],
   "source": [
    "# Now multiply the f32 with coarsest dt\n",
    "f32 = f32 * dt_coarsest"
   ]
  },
  {
   "cell_type": "code",
   "execution_count": 67,
   "metadata": {},
   "outputs": [],
   "source": [
    "# initialize the variable f21 with zero to represent f2-f1\n",
    "f21 = 0.0"
   ]
  },
  {
   "cell_type": "code",
   "execution_count": 68,
   "metadata": {},
   "outputs": [],
   "source": [
    "# loop through n=0, 1, ..., N_medium-1 to sum up the difference in solutions\n",
    "\n",
    "for n in range(N_medium):\n",
    "    \n",
    "    # add the absolute value between v with largest and medium dt at time point n\n",
    "    f21 = f21 + numpy.abs(u_medium[n, 0] - u_finest[2*n, 0])\n",
    "    \n",
    "    f21 = f21 + numpy.abs(u_medium[n, 1] - u_finest[2*n, 1]) +  numpy.abs(u_medium[n, 2] - u_finest[2*n, 2])\n",
    "    + numpy.abs(u_medium[n, 3] - u_finest[2*n, 3])"
   ]
  },
  {
   "cell_type": "code",
   "execution_count": 69,
   "metadata": {},
   "outputs": [],
   "source": [
    "# Now multiply the f32 with medium dt\n",
    "\n",
    "f21 = f21 * dt_medium"
   ]
  },
  {
   "cell_type": "code",
   "execution_count": 70,
   "metadata": {},
   "outputs": [],
   "source": [
    "# calculate p = log(f32/f21) / log(r); you can use numpy.log10\n",
    "p = numpy.log10( f32 / f21 ) / numpy.log10( r )"
   ]
  },
  {
   "cell_type": "code",
   "execution_count": 71,
   "metadata": {},
   "outputs": [
    {
     "name": "stdout",
     "output_type": "stream",
     "text": [
      "1.0138341957353563\n"
     ]
    }
   ],
   "source": [
    "# after printing out the p, you should get a value around 1.0139\n",
    "print(p)"
   ]
  }
 ],
 "metadata": {
  "kernelspec": {
   "display_name": "Python 3",
   "language": "python",
   "name": "python3"
  },
  "language_info": {
   "codemirror_mode": {
    "name": "ipython",
    "version": 3
   },
   "file_extension": ".py",
   "mimetype": "text/x-python",
   "name": "python",
   "nbconvert_exporter": "python",
   "pygments_lexer": "ipython3",
   "version": "3.6.2"
  }
 },
 "nbformat": 4,
 "nbformat_minor": 2
}
