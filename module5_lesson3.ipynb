{
 "cells": [
  {
   "cell_type": "code",
   "execution_count": 1,
   "metadata": {},
   "outputs": [],
   "source": [
    "import numpy\n",
    "from matplotlib import pyplot\n",
    "%matplotlib inline"
   ]
  },
  {
   "cell_type": "code",
   "execution_count": 2,
   "metadata": {},
   "outputs": [],
   "source": [
    "import numba\n",
    "from numba import jit"
   ]
  },
  {
   "cell_type": "code",
   "execution_count": 3,
   "metadata": {},
   "outputs": [],
   "source": [
    "nx, ny = 5, 5\n",
    "Lx, Ly = 1., 1.\n",
    "dx, dy = int( Lx / ( nx - 1 ) ), int( Ly / ( ny - 1 ) )\n",
    "x = numpy.linspace( 0., Lx, nx )\n",
    "y = numpy.linspace( 0., Ly, ny )\n",
    "u0 = numpy.zeros( ( ny, nx ) )\n",
    "u0[ :, 0 ] = 1.\n",
    "u0[ -1, : ] = 1.\n",
    "u0[ 0, : ] = 1.\n",
    "b = numpy.ones( ( ny, nx ) ) * .5 * .25**2"
   ]
  },
  {
   "cell_type": "code",
   "execution_count": 4,
   "metadata": {},
   "outputs": [],
   "source": [
    "@jit(nopython=True)\n",
    "def poisson_jacobi( u0, maxiter=20000, rtol=1e-6 ):\n",
    "    \n",
    "    u = u0.copy()\n",
    "    diff = rtol + 1\n",
    "    ite = 0\n",
    "    conv = []\n",
    "    while ite < maxiter and diff > rtol:\n",
    "        \n",
    "        un = u.copy()\n",
    "        \n",
    "        u[1:-1, 1:-1] = 0.25 * (un[1:-1, :-2] + un[1:-1, 2:] + un[:-2, 1:-1] + un[2:, 1:-1])\n",
    "        \n",
    "        ite += 1\n",
    "        diff = numpy.linalg.norm( u - un ) / numpy.linalg.norm( un ) \n",
    "        conv.append( diff )\n",
    "    return u, ite, conv"
   ]
  },
  {
   "cell_type": "code",
   "execution_count": 5,
   "metadata": {},
   "outputs": [],
   "source": [
    "@jit(nopython=True)\n",
    "def poisson_sor( u0, omega, maxiter=20000, rtol=1e-6 ):\n",
    "    \n",
    "    u = u0.copy()\n",
    "    diff = rtol + 1\n",
    "    ite = 0\n",
    "    conv = []\n",
    "    while ite < maxiter and diff > rtol:\n",
    "        \n",
    "        un = u.copy()\n",
    "        \n",
    "        for j in range(1, ny - 1):\n",
    "\n",
    "                for i in range(1, nx - 1):\n",
    "\n",
    "                    u[j, i] = (1.0 - omega) * u[j, i] + omega * 0.25 * (u[j, i - 1] + u[j, i + 1] + u[j - 1, i] + u[j + 1, i])\n",
    "\n",
    "        ite += 1\n",
    "        diff = numpy.linalg.norm( u - un ) / numpy.linalg.norm( un ) \n",
    "        conv.append( diff )\n",
    "    return u, ite, conv"
   ]
  },
  {
   "cell_type": "code",
   "execution_count": 6,
   "metadata": {},
   "outputs": [],
   "source": [
    "@jit(nopython=True)\n",
    "def poisson_gauss_seidel( u0, b, nx, ny, maxiter=20000, rtol=1e-6 ):\n",
    "    \n",
    "    u = u0.copy()\n",
    "    diff = rtol + 1\n",
    "    ite = 0\n",
    "    conv = []\n",
    "    while ite < maxiter and diff > rtol:\n",
    "        \n",
    "        un = u.copy()\n",
    "        \n",
    "        for j in range(1, ny - 1):\n",
    "\n",
    "                for i in range(1, nx - 1):\n",
    "\n",
    "                    u[j, i] = 0.25 * (u[j, i - 1] + u[j, i + 1] + u[j - 1, i] + u[j + 1, i] - b[ j, i ] )\n",
    "\n",
    "        ite += 1\n",
    "        diff = numpy.linalg.norm(u - un ) / numpy.linalg.norm( un ) \n",
    "        conv.append( diff )\n",
    "    return u, ite, conv"
   ]
  },
  {
   "cell_type": "code",
   "execution_count": 13,
   "metadata": {},
   "outputs": [
    {
     "name": "stdout",
     "output_type": "stream",
     "text": [
      "37.2 µs ± 260 ns per loop (mean ± std. dev. of 7 runs, 10000 loops each)\n"
     ]
    }
   ],
   "source": [
    "%%timeit\n",
    "uj, itej, convj = poisson_jacobi( u0 )"
   ]
  },
  {
   "cell_type": "code",
   "execution_count": 14,
   "metadata": {},
   "outputs": [
    {
     "name": "stdout",
     "output_type": "stream",
     "text": [
      "53.1 µs ± 357 ns per loop (mean ± std. dev. of 7 runs, 10000 loops each)\n"
     ]
    }
   ],
   "source": [
    "%%timeit\n",
    "omega = 1.\n",
    "us, ites, convs = poisson_sor( u0, omega )"
   ]
  },
  {
   "cell_type": "code",
   "execution_count": 15,
   "metadata": {},
   "outputs": [
    {
     "name": "stdout",
     "output_type": "stream",
     "text": [
      "81.4 µs ± 1.16 µs per loop (mean ± std. dev. of 7 runs, 10000 loops each)\n"
     ]
    }
   ],
   "source": [
    "%%timeit\n",
    "ug, iteg, convg = poisson_gauss_seidel( u0, b, nx, ny )"
   ]
  },
  {
   "cell_type": "code",
   "execution_count": 10,
   "metadata": {},
   "outputs": [
    {
     "name": "stdout",
     "output_type": "stream",
     "text": [
      "36 20 20\n"
     ]
    }
   ],
   "source": [
    "print( itej, ites, iteg )"
   ]
  },
  {
   "cell_type": "code",
   "execution_count": 11,
   "metadata": {},
   "outputs": [
    {
     "data": {
      "image/png": "[encoded data removed]",
      "text/plain": [
       "<Figure size 864x288 with 3 Axes>"
      ]
     },
     "metadata": {
      "needs_background": "light"
     },
     "output_type": "display_data"
    }
   ],
   "source": [
    "X, Y = numpy.meshgrid( x, y )\n",
    "pyplot.figure( figsize = ( 12, 4 ))\n",
    "pyplot.subplot( 1, 3, 1 )\n",
    "pyplot.contourf( X, Y, uj)\n",
    "pyplot.title( 'Jacobi' )\n",
    "pyplot.subplot( 1, 3, 2 )\n",
    "pyplot.contourf( X, Y, ug)\n",
    "pyplot.title( 'Gauss Seidel' )\n",
    "pyplot.subplot( 1, 3, 3 )\n",
    "pyplot.contourf( X, Y, us)\n",
    "pyplot.title( 'SOR' );"
   ]
  },
  {
   "cell_type": "code",
   "execution_count": 12,
   "metadata": {},
   "outputs": [
    {
     "data": {
      "text/plain": [
       "<matplotlib.legend.Legend at 0x7fd4d6a4ff28>"
      ]
     },
     "execution_count": 12,
     "metadata": {},
     "output_type": "execute_result"
    },
    {
     "data": {
      "image/png": "[encoded data removed]",
      "text/plain": [
       "<Figure size 432x288 with 1 Axes>"
      ]
     },
     "metadata": {
      "needs_background": "light"
     },
     "output_type": "display_data"
    }
   ],
   "source": [
    "pyplot.semilogy( numpy.linspace( 1, itej+1, itej ), convj, label = 'Jacobi' )\n",
    "\n",
    "pyplot.semilogy( numpy.linspace( 1, iteg+1, iteg ), convg, label = 'Gauss-Seidel' )\n",
    "\n",
    "pyplot.semilogy( numpy.linspace( 1, ites+1, ites ), convs, label = 'SOR' );\n",
    "pyplot.grid()\n",
    "pyplot.legend()"
   ]
  },
  {
   "cell_type": "code",
   "execution_count": null,
   "metadata": {},
   "outputs": [],
   "source": []
  }
 ],
 "metadata": {
  "kernelspec": {
   "display_name": "Python 3",
   "language": "python",
   "name": "python3"
  },
  "language_info": {
   "codemirror_mode": {
    "name": "ipython",
    "version": 3
   },
   "file_extension": ".py",
   "mimetype": "text/x-python",
   "name": "python",
   "nbconvert_exporter": "python",
   "pygments_lexer": "ipython3",
   "version": "3.7.3"
  }
 },
 "nbformat": 4,
 "nbformat_minor": 2
}
