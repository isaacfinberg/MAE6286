{
 "cells": [
  {
   "cell_type": "code",
   "execution_count": 1,
   "metadata": {},
   "outputs": [],
   "source": [
    "import numpy\n",
    "from helper import *\n",
    "from matplotlib import pyplot\n",
    "%matplotlib inline"
   ]
  },
  {
   "cell_type": "markdown",
   "metadata": {},
   "source": [
    "# Steepest Descent"
   ]
  },
  {
   "cell_type": "code",
   "execution_count": 2,
   "metadata": {},
   "outputs": [],
   "source": [
    "pi = numpy.pi\n",
    "Lx = 1.\n",
    "Ly = 1.\n",
    "nx, ny = 101, 101\n",
    "x = numpy.linspace( 0., Lx, nx )\n",
    "y = numpy.linspace( -0.5, .5, ny )\n",
    "dx = Lx / ( nx - 1 ) \n",
    "dy = Ly / ( ny - 1 )\n",
    "X, Y = numpy.meshgrid( x, y )\n",
    "b = -2 * pi**2 / 4 * numpy.sin( pi * X / Lx ) * numpy.cos( pi * Y / Ly )\n",
    "\n",
    "p0 = numpy.zeros((ny, nx))\n",
    "\n",
    "p_exact = poisson_solution(x, y, Lx, Ly)"
   ]
  },
  {
   "cell_type": "code",
   "execution_count": 3,
   "metadata": {},
   "outputs": [],
   "source": [
    "def laplacian( p, dx ):\n",
    "\n",
    "    l = (-4.0 * p[1:-1, 1:-1] + p[1:-1, :-2] + p[1:-1, 2:] + p[:-2, 1:-1] + p[2:, 1:-1]) / dx**2\n",
    "    \n",
    "    return l"
   ]
  },
  {
   "cell_type": "code",
   "execution_count": 4,
   "metadata": {},
   "outputs": [],
   "source": [
    "def poisson_2d_st(p0, b, dx, dy, maxiter = 20000, rtol = 1e-6 ):\n",
    "    \n",
    "    p = p0.copy()\n",
    "    r = numpy.zeros_like(p)  # initial residual\n",
    "    Ar = numpy.zeros_like(p)  # to store the mat-vec multiplication\n",
    "    conv = []  # convergence history\n",
    "    diff = rtol + 1  # initial difference\n",
    "    ites = 0  # iteration index\n",
    "    \n",
    "    while diff > rtol and ites < maxiter:\n",
    "        \n",
    "        pk = p.copy()\n",
    "        r[ 1:-1, 1:-1 ] = b[ 1:-1, 1:-1 ] - laplacian( pk, dx )\n",
    "        Ar[ 1:-1, 1:-1 ] = laplacian( r, dx )\n",
    "        alpha = numpy.sum( r * r ) / numpy.sum( r * Ar )\n",
    "        p = pk + alpha * r\n",
    "        \n",
    "        diff = l2_norm(p, pk)\n",
    "        conv.append(diff)\n",
    "        ites += 1\n",
    "    \n",
    "    return ites, conv, p"
   ]
  },
  {
   "cell_type": "code",
   "execution_count": 5,
   "metadata": {},
   "outputs": [],
   "source": [
    "ites, conv, p = poisson_2d_st(p0, b, dx, dy, maxiter = 20000, rtol = 1e-10  )"
   ]
  },
  {
   "cell_type": "code",
   "execution_count": 6,
   "metadata": {},
   "outputs": [
    {
     "name": "stdout",
     "output_type": "stream",
     "text": [
      "Method of steepest descent: 2 iterations to reach a relative difference of 1.3307695446303778e-16\n"
     ]
    }
   ],
   "source": [
    "print('Method of steepest descent: {} iterations '.format(ites) +\n",
    "      'to reach a relative difference of {}'.format(conv[-1]))"
   ]
  },
  {
   "cell_type": "markdown",
   "metadata": {},
   "source": [
    "# Conjugate Gradient"
   ]
  },
  {
   "cell_type": "code",
   "execution_count": 18,
   "metadata": {},
   "outputs": [],
   "source": [
    "def poisson_2d_cg(p0, b, dx, dy, maxiter = 20000, rtol = 1e-6 ):\n",
    "    \n",
    "    p = p0.copy()\n",
    "    r = numpy.zeros_like(p)  # initial residual\n",
    "    Ad = numpy.zeros_like(p)  # to store the mat-vec multiplication\n",
    "    r[ 1:-1, 1:-1 ] = b[ 1:-1, 1:-1 ] - laplacian( p, dx )\n",
    "    d = r.copy()\n",
    "    conv = []  # convergence history\n",
    "    diff = rtol + 1  # initial difference\n",
    "    ites = 0  # iteration index\n",
    "    \n",
    "    while diff > rtol and ites < maxiter:\n",
    "        \n",
    "        pk = p.copy()\n",
    "        rk = r.copy()\n",
    "        \n",
    "        Ad[ 1:-1, 1:-1 ] = laplacian( d, dx )\n",
    "        alpha = numpy.sum( r * r ) / numpy.sum( d * Ad )\n",
    "        p = pk + alpha * d\n",
    "        r = rk - alpha * Ad\n",
    "        Beta = numpy.sum( r * r ) / numpy.sum( rk * rk )\n",
    "        d = r + Beta * d\n",
    "        \n",
    "        diff = l2_norm(p, pk)\n",
    "        conv.append(diff)\n",
    "        ites += 1\n",
    "            \n",
    "    return ites, conv, p"
   ]
  },
  {
   "cell_type": "code",
   "execution_count": 19,
   "metadata": {},
   "outputs": [],
   "source": [
    "ites, conv, p = poisson_2d_cg( p0, b, dx, dy, maxiter = 20000, rtol = 1e-10 )"
   ]
  },
  {
   "cell_type": "code",
   "execution_count": 20,
   "metadata": {},
   "outputs": [
    {
     "data": {
      "text/plain": [
       "2"
      ]
     },
     "execution_count": 20,
     "metadata": {},
     "output_type": "execute_result"
    }
   ],
   "source": [
    "ites"
   ]
  },
  {
   "cell_type": "code",
   "execution_count": 21,
   "metadata": {},
   "outputs": [],
   "source": [
    "b2 = numpy.sin( pi * X / Lx ) * numpy.cos( pi * Y / Ly ) + numpy.sin( 6 * pi * X / Lx ) * numpy.cos( 6 * pi * Y / Ly )"
   ]
  },
  {
   "cell_type": "code",
   "execution_count": 22,
   "metadata": {},
   "outputs": [],
   "source": [
    "ites, conv, p = poisson_2d_cg( p0, b2, dx, dy, maxiter = 20000, rtol = 1e-10 )"
   ]
  },
  {
   "cell_type": "code",
   "execution_count": 23,
   "metadata": {},
   "outputs": [
    {
     "data": {
      "text/plain": [
       "72"
      ]
     },
     "execution_count": 23,
     "metadata": {},
     "output_type": "execute_result"
    }
   ],
   "source": [
    "ites"
   ]
  },
  {
   "cell_type": "code",
   "execution_count": 26,
   "metadata": {},
   "outputs": [],
   "source": [
    "ites, conv, p = poisson_2d_st( p0, b2, dx, dy, maxiter = 40000, rtol = 1e-10 )"
   ]
  },
  {
   "cell_type": "code",
   "execution_count": 27,
   "metadata": {},
   "outputs": [
    {
     "data": {
      "text/plain": [
       "31591"
      ]
     },
     "execution_count": 27,
     "metadata": {},
     "output_type": "execute_result"
    }
   ],
   "source": [
    "ites"
   ]
  },
  {
   "cell_type": "code",
   "execution_count": 28,
   "metadata": {},
   "outputs": [],
   "source": [
    "p, ites, conv = poisson_2d_jacobi(p0, b2, dx, dy, maxiter = 40000, rtol = 1e-10)"
   ]
  },
  {
   "cell_type": "code",
   "execution_count": 29,
   "metadata": {},
   "outputs": [
    {
     "data": {
      "text/plain": [
       "31226"
      ]
     },
     "execution_count": 29,
     "metadata": {},
     "output_type": "execute_result"
    }
   ],
   "source": [
    "ites"
   ]
  },
  {
   "cell_type": "code",
   "execution_count": null,
   "metadata": {},
   "outputs": [],
   "source": []
  }
 ],
 "metadata": {
  "kernelspec": {
   "display_name": "Python 3",
   "language": "python",
   "name": "python3"
  },
  "language_info": {
   "codemirror_mode": {
    "name": "ipython",
    "version": 3
   },
   "file_extension": ".py",
   "mimetype": "text/x-python",
   "name": "python",
   "nbconvert_exporter": "python",
   "pygments_lexer": "ipython3",
   "version": "3.7.3"
  }
 },
 "nbformat": 4,
 "nbformat_minor": 2
}
