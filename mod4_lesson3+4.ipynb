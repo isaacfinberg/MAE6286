{
 "cells": [
  {
   "cell_type": "code",
   "execution_count": 33,
   "metadata": {},
   "outputs": [],
   "source": [
    "import numpy\n",
    "from matplotlib import pyplot\n",
    "%matplotlib inline"
   ]
  },
  {
   "cell_type": "markdown",
   "metadata": {},
   "source": [
    "# Explicit"
   ]
  },
  {
   "cell_type": "code",
   "execution_count": 34,
   "metadata": {},
   "outputs": [],
   "source": [
    "L = .01\n",
    "nx, ny = 21, 21\n",
    "dx = L / ( nx - 1 )\n",
    "dy = L / ( ny - 1 )\n",
    "x = numpy.linspace( 0., L, nx )\n",
    "y = numpy.linspace( 0., L, ny )\n",
    "alpha = 1e-4\n",
    "\n",
    "T0 = numpy.full( ( ny, nx ), 20 )\n",
    "T0[ 0, : ] = 100.\n",
    "T0[ :, 0 ] = 100."
   ]
  },
  {
   "cell_type": "code",
   "execution_count": 35,
   "metadata": {},
   "outputs": [],
   "source": [
    "def ftcs( T0, nt, dt, dx, dy, alpha, qx = 0., qy = 0. ):\n",
    "    \n",
    "    T = T0.copy()\n",
    "    sigma_x = alpha * dt / dx**2\n",
    "    sigma_y = alpha * dt / dy**2\n",
    "    \n",
    "    ny, nx = T.shape\n",
    "    I, J = nx // 2, ny // 2\n",
    "    \n",
    "    for n in range( nt ):\n",
    "        \n",
    "        T[ 1:-1, 1:-1 ] = ( T[ 1:-1, 1:-1 ] + \n",
    "                           sigma_x * \n",
    "                           ( T[ 1:-1, :-2 ] - 2 * T[ 1:-1, 1:-1 ] + T[ 1:-1, 2: ] ) + \n",
    "                           sigma_y * \n",
    "                           ( T[ :-2, 1:-1 ] - 2 * T[ 1:-1, 1:-1 ] + T[ 2:, 1:-1 ] ) )\n",
    "        T[ -1, : ] = T[ -2, : ] + qy * dy\n",
    "        T[ :, -1 ] = T[ :, -2 ] + qx * dx\n",
    "        \n",
    "        if T[ J, I ] >= 70:\n",
    "            \n",
    "            break\n",
    "            \n",
    "    print( \"temp:\", T[ J, I ], \", time steps:\", n + 1 )\n",
    "        \n",
    "    return T"
   ]
  },
  {
   "cell_type": "code",
   "execution_count": 36,
   "metadata": {},
   "outputs": [],
   "source": [
    "nt = 500\n",
    "dt = dx**2 / ( 4 * alpha )"
   ]
  },
  {
   "cell_type": "code",
   "execution_count": 37,
   "metadata": {},
   "outputs": [
    {
     "name": "stdout",
     "output_type": "stream",
     "text": [
      "temp: 20 , time steps: 500\n"
     ]
    }
   ],
   "source": [
    "T = ftcs( T0, nt, dt, dx, dy, alpha )"
   ]
  },
  {
   "cell_type": "code",
   "execution_count": 38,
   "metadata": {},
   "outputs": [
    {
     "data": {
      "image/png": "[encoded data removed]",
      "text/plain": [
       "<Figure size 576x360 with 2 Axes>"
      ]
     },
     "metadata": {
      "needs_background": "light"
     },
     "output_type": "display_data"
    }
   ],
   "source": [
    "pyplot.figure( figsize = ( 8., 5. ) )\n",
    "pyplot.xlabel( 'x [cm]' )\n",
    "pyplot.ylabel( 'y [cm]' )\n",
    "contf = pyplot.contourf( x * 100, y * 100, T );\n",
    "cbar = pyplot.colorbar( contf )\n",
    "cbar.set_label( 'Temperature [C]' )"
   ]
  },
  {
   "cell_type": "markdown",
   "metadata": {},
   "source": [
    "# Implicit"
   ]
  },
  {
   "cell_type": "code",
   "execution_count": 39,
   "metadata": {},
   "outputs": [],
   "source": [
    "def lhs_operator( M, N, sigma ):\n",
    "    \n",
    "    A = numpy.zeros( ( M * N, M * N ) )\n",
    "    \n",
    "    for j in range( N ):\n",
    "        \n",
    "        for i in range( M ):\n",
    "            \n",
    "            I = j * M + i\n",
    "            west = I - 1\n",
    "            east = I + 1\n",
    "            south = I - M\n",
    "            north = I + M\n",
    "            \n",
    "            if i == 0 and j == 0:\n",
    "                \n",
    "                A[ I, I ] = 1 / sigma + 4\n",
    "                A[ I, east ] = -1.\n",
    "                A[ I, north ] = -1.\n",
    "                \n",
    "            elif i == M - 1 and j == 0:\n",
    "                \n",
    "                A[ I, I ] = 1 / sigma + 2\n",
    "                A[ I, west ] = -1.\n",
    "                A[ I, north ] = -1.\n",
    "                \n",
    "            elif i == 0 and j == N - 1:\n",
    "                \n",
    "                A[ I, I ] = 1 / sigma + 3\n",
    "                A[ I, east ] = -1.\n",
    "                A[ I, south ] = -1.\n",
    "                \n",
    "            elif i == M - 1 and j == N - 1:\n",
    "                \n",
    "                A[ I, I ] = 1 / sigma + 2\n",
    "                A[ I, west ] = -1.\n",
    "                A[ I, south ] = -1.\n",
    "            \n",
    "            elif j == 0:\n",
    "                \n",
    "                A[ I, I ] = 1 / sigma + 4\n",
    "                A[ I, west ] = -1.\n",
    "                A[ I, east ] = -1.\n",
    "                A[ I, north ] = -1.\n",
    "                \n",
    "            elif j == N - 1:\n",
    "                \n",
    "                A[ I, I ] = 1 / sigma + 3\n",
    "                A[ I, west ] = -1.\n",
    "                A[ I, east ] = -1.\n",
    "                A[ I, south ] = -1.\n",
    "                \n",
    "            elif i == 0:\n",
    "                \n",
    "                pass\n",
    "            \n",
    "            elif i == M - 1:\n",
    "                \n",
    "                pass\n",
    "            \n",
    "            else:\n",
    "                \n",
    "                A[ I, I ] = 1 / sigma + 4\n",
    "                A[ I, west ] = -1.\n",
    "                A[ I, east ] = -1.\n",
    "                A[ I, south ] = -1.\n",
    "                A[ I, north ] = -1.\n",
    "                \n",
    "    return A"
   ]
  },
  {
   "cell_type": "code",
   "execution_count": null,
   "metadata": {},
   "outputs": [],
   "source": [
    "def btcs( T0, nt, dt, delta, alpha, qx = 0., qy = 0. ):\n",
    "    \n",
    "    sigma = alpha * dt / delta**2\n",
    "    A = lhs_operator( , sigma)\n",
    "    T = map_2d_to_1d( T0 )\n",
    "    \n",
    "    for n in range( nt ):\n",
    "        \n",
    "        b = rhs_vector()\n",
    "        T = numpy.linalg.solve( A, b )\n",
    "        \n",
    "    return map_1d_to_2d( T )"
   ]
  }
 ],
 "metadata": {
  "kernelspec": {
   "display_name": "Python 3",
   "language": "python",
   "name": "python3"
  },
  "language_info": {
   "codemirror_mode": {
    "name": "ipython",
    "version": 3
   },
   "file_extension": ".py",
   "mimetype": "text/x-python",
   "name": "python",
   "nbconvert_exporter": "python",
   "pygments_lexer": "ipython3",
   "version": "3.7.3"
  }
 },
 "nbformat": 4,
 "nbformat_minor": 2
}
