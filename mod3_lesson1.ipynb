{
 "cells": [
  {
   "cell_type": "code",
   "execution_count": 1,
   "metadata": {},
   "outputs": [],
   "source": [
    "import numpy\n",
    "from matplotlib import pyplot\n",
    "%matplotlib inline"
   ]
  },
  {
   "cell_type": "code",
   "execution_count": 11,
   "metadata": {},
   "outputs": [],
   "source": [
    "def initial_conditions( x, x_L, rho_L ):\n",
    "    \n",
    "    rho0 = numpy.zeros( len( x ) )\n",
    "    idx = numpy.where( x == x_L )[0]\n",
    "    idx = idx[ 0 ]\n",
    "    rho0[ 0:idx ] = rho_L * x[ 0:idx ] / x_L\n",
    "    \n",
    "    return rho0\n",
    "\n",
    "def velocity( rho, u_max, rho_max ):\n",
    "    \n",
    "    u = u_max * ( 1 - rho / rho_max )\n",
    "    \n",
    "    return u\n",
    "\n",
    "def flux( rho, u_max, rho_max ):\n",
    "    \n",
    "    F = rho * velocity( rho, u_max, rho_max )\n",
    "    \n",
    "    return F\n",
    "\n",
    "def ftbs( rho0, dt, dx, nt, nx, u_max, rho_max ):\n",
    "    \n",
    "    rho = rho0.copy()\n",
    "    rho_hist = [ rho0.copy() ]\n",
    "    \n",
    "    for n in range( nt ):\n",
    "        \n",
    "        rho_n = rho.copy() \n",
    "    \n",
    "        for i in range( 1, nx ):\n",
    "\n",
    "            rho[ i ] = -( flux( rho_n[ i ], u_max, rho_max ) - flux( rho_n[ i - 1 ], u_max, rho_max ) ) / dx * dt + rho_n[ i ]\n",
    "    \n",
    "        rho_hist.append( rho.copy() )\n",
    "    \n",
    "#     for n in range( nt ):\n",
    "        \n",
    "#         F = flux( rho, u_max, rho_max )\n",
    "#         rho[ 1: ] = rho[ 1: ] - ( F[ 1: ] - F[ :-1 ] ) * dt / dx\n",
    "#         rho_hist.append( rho.copy() )\n",
    "        \n",
    "    return rho_hist"
   ]
  },
  {
   "cell_type": "code",
   "execution_count": 26,
   "metadata": {},
   "outputs": [],
   "source": [
    "L = 4\n",
    "x_L = 2\n",
    "rho_max = 10\n",
    "u_max = 1\n",
    "rho_L = 2\n",
    "\n",
    "nt = 30\n",
    "nx = 81\n",
    "x = numpy.linspace( 0, L, nx )\n",
    "dx = L / ( nx - 1 )\n",
    "sigma = 1\n",
    "dt = sigma * dx / u_max"
   ]
  },
  {
   "cell_type": "code",
   "execution_count": 27,
   "metadata": {},
   "outputs": [
    {
     "data": {
      "image/png": "[encoded data removed]",
      "text/plain": [
       "<Figure size 432x288 with 1 Axes>"
      ]
     },
     "metadata": {
      "needs_background": "light"
     },
     "output_type": "display_data"
    }
   ],
   "source": [
    "rho0 = initial_conditions( x, x_L, rho_L )\n",
    "pyplot.plot( x, rho0 )\n",
    "pyplot.xlabel( 'x' );\n",
    "pyplot.ylabel( 'rho' );\n",
    "pyplot.grid()"
   ]
  },
  {
   "cell_type": "code",
   "execution_count": 28,
   "metadata": {},
   "outputs": [],
   "source": [
    "rho_hist = ftbs( rho0, dt, dx, nt, nx, u_max, rho_max )\n"
   ]
  },
  {
   "cell_type": "code",
   "execution_count": 29,
   "metadata": {},
   "outputs": [],
   "source": [
    "def plot_solution( n, rho_hist, x ):\n",
    "    \n",
    "    pyplot.figure()\n",
    "    pyplot.xlabel( 'x' )\n",
    "    pyplot.ylabel( 'rho' )\n",
    "    pyplot.grid()\n",
    "    pyplot.plot( x, rho_hist[ 0 ], label = 'Intitial' )\n",
    "    pyplot.plot( x, rho_hist[ n ], label = 'Current' )\n",
    "    pyplot.legend()\n",
    "    pyplot.show()"
   ]
  },
  {
   "cell_type": "code",
   "execution_count": 30,
   "metadata": {},
   "outputs": [
    {
     "data": {
      "image/png": "[encoded data removed]",
      "text/plain": [
       "<Figure size 432x288 with 1 Axes>"
      ]
     },
     "metadata": {
      "needs_background": "light"
     },
     "output_type": "display_data"
    }
   ],
   "source": [
    "plot_solution( nt, rho_hist, x)"
   ]
  },
  {
   "cell_type": "code",
   "execution_count": 31,
   "metadata": {},
   "outputs": [],
   "source": [
    "import ipywidgets"
   ]
  },
  {
   "cell_type": "code",
   "execution_count": 32,
   "metadata": {},
   "outputs": [],
   "source": [
    "nt_slider = ipywidgets.IntSlider( value = 0, min = 0, max = nt, step = 1, description = 'Time Step' )\n",
    "w = ipywidgets.interactive( plot_solution, n = nt_slider, rho_hist = ipywidgets.fixed( rho_hist ), x = ipywidgets.fixed( x ) )"
   ]
  },
  {
   "cell_type": "code",
   "execution_count": 33,
   "metadata": {},
   "outputs": [
    {
     "data": {
      "application/vnd.jupyter.widget-view+json": {
       "model_id": "59dd2475637b4f83894ec6d0876ed8b0",
       "version_major": 2,
       "version_minor": 0
      },
      "text/plain": [
       "interactive(children=(IntSlider(value=0, description='Time Step', max=30), Output()), _dom_classes=('widget-in…"
      ]
     },
     "metadata": {},
     "output_type": "display_data"
    }
   ],
   "source": [
    "display( w )"
   ]
  },
  {
   "cell_type": "code",
   "execution_count": null,
   "metadata": {},
   "outputs": [],
   "source": []
  }
 ],
 "metadata": {
  "kernelspec": {
   "display_name": "Python 3",
   "language": "python",
   "name": "python3"
  },
  "language_info": {
   "codemirror_mode": {
    "name": "ipython",
    "version": 3
   },
   "file_extension": ".py",
   "mimetype": "text/x-python",
   "name": "python",
   "nbconvert_exporter": "python",
   "pygments_lexer": "ipython3",
   "version": "3.7.3"
  }
 },
 "nbformat": 4,
 "nbformat_minor": 2
}
