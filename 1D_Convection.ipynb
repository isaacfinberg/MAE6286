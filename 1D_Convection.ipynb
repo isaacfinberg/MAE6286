{
 "cells": [
  {
   "cell_type": "markdown",
   "metadata": {},
   "source": [
    "## 1D Linear Convection"
   ]
  },
  {
   "cell_type": "code",
   "execution_count": 1,
   "metadata": {},
   "outputs": [],
   "source": [
    "import numpy\n",
    "from matplotlib import pyplot\n",
    "% matplotlib inline"
   ]
  },
  {
   "cell_type": "code",
   "execution_count": 35,
   "metadata": {},
   "outputs": [],
   "source": [
    "nx = 41\n",
    "L = 2.\n",
    "dx = L / ( nx - 1 ) \n",
    "\n",
    "nt = 25\n",
    "dt = .02\n",
    "c = 1."
   ]
  },
  {
   "cell_type": "code",
   "execution_count": 36,
   "metadata": {
    "scrolled": false
   },
   "outputs": [
    {
     "data": {
      "text/plain": [
       "array([0.  , 0.05, 0.1 , 0.15, 0.2 , 0.25, 0.3 , 0.35, 0.4 , 0.45, 0.5 ,\n",
       "       0.55, 0.6 , 0.65, 0.7 , 0.75, 0.8 , 0.85, 0.9 , 0.95, 1.  , 1.05,\n",
       "       1.1 , 1.15, 1.2 , 1.25, 1.3 , 1.35, 1.4 , 1.45, 1.5 , 1.55, 1.6 ,\n",
       "       1.65, 1.7 , 1.75, 1.8 , 1.85, 1.9 , 1.95, 2.  ])"
      ]
     },
     "execution_count": 36,
     "metadata": {},
     "output_type": "execute_result"
    }
   ],
   "source": [
    "x = numpy.linspace( 0., L, num = nx )\n",
    "x"
   ]
  },
  {
   "cell_type": "code",
   "execution_count": 37,
   "metadata": {},
   "outputs": [
    {
     "data": {
      "text/plain": [
       "(array([10, 11, 12, 13, 14, 15, 16, 17, 18, 19, 20]),)"
      ]
     },
     "execution_count": 37,
     "metadata": {},
     "output_type": "execute_result"
    }
   ],
   "source": [
    "u0 = numpy.ones( nx )\n",
    "mask = numpy.where( ( x >= .5 ) & ( x <= 1 ) )\n",
    "mask"
   ]
  },
  {
   "cell_type": "code",
   "execution_count": 38,
   "metadata": {},
   "outputs": [
    {
     "data": {
      "text/plain": [
       "array([1., 1., 1., 1., 1., 1., 1., 1., 1., 1., 2., 2., 2., 2., 2., 2., 2.,\n",
       "       2., 2., 2., 2., 1., 1., 1., 1., 1., 1., 1., 1., 1., 1., 1., 1., 1.,\n",
       "       1., 1., 1., 1., 1., 1., 1.])"
      ]
     },
     "execution_count": 38,
     "metadata": {},
     "output_type": "execute_result"
    }
   ],
   "source": [
    "u0[ mask ] = 2.\n",
    "u0"
   ]
  },
  {
   "cell_type": "code",
   "execution_count": 39,
   "metadata": {
    "scrolled": true
   },
   "outputs": [
    {
     "name": "stdout",
     "output_type": "stream",
     "text": [
      "0.0 1.0\n",
      "0.05 1.0\n",
      "0.1 1.0\n",
      "0.15000000000000002 1.0\n",
      "0.2 1.0\n",
      "0.25 1.0\n",
      "0.30000000000000004 1.0\n",
      "0.35000000000000003 1.0\n",
      "0.4 1.0\n",
      "0.45 1.0\n",
      "0.5 2.0\n",
      "0.55 2.0\n",
      "0.6000000000000001 2.0\n",
      "0.65 2.0\n",
      "0.7000000000000001 2.0\n",
      "0.75 2.0\n",
      "0.8 2.0\n",
      "0.8500000000000001 2.0\n",
      "0.9 2.0\n",
      "0.9500000000000001 2.0\n",
      "1.0 2.0\n",
      "1.05 1.0\n",
      "1.1 1.0\n",
      "1.1500000000000001 1.0\n",
      "1.2000000000000002 1.0\n",
      "1.25 1.0\n",
      "1.3 1.0\n",
      "1.35 1.0\n",
      "1.4000000000000001 1.0\n",
      "1.4500000000000002 1.0\n",
      "1.5 1.0\n",
      "1.55 1.0\n",
      "1.6 1.0\n",
      "1.6500000000000001 1.0\n",
      "1.7000000000000002 1.0\n",
      "1.75 1.0\n",
      "1.8 1.0\n",
      "1.85 1.0\n",
      "1.9000000000000001 1.0\n",
      "1.9500000000000002 1.0\n",
      "2.0 1.0\n"
     ]
    }
   ],
   "source": [
    "for i in range( nx ):\n",
    "    print( x[ i ], u0[ i ] )"
   ]
  },
  {
   "cell_type": "code",
   "execution_count": 40,
   "metadata": {},
   "outputs": [],
   "source": [
    "def plot_figure( x, u0, u ):\n",
    "    \n",
    "    pyplot.plot( figsize = ( 4., 4. ) )\n",
    "    pyplot.xlabel( 'x' )\n",
    "    pyplot.ylabel( 'u' )\n",
    "    pyplot.grid()\n",
    "    pyplot.plot( x, u0, label = 'Initial' )\n",
    "    pyplot.plot( x, u, label = 'Current' )\n",
    "    pyplot.xlim( 0., 2. )\n",
    "    pyplot.ylim( 0., 2.5 )\n",
    "    pyplot.legend()"
   ]
  },
  {
   "cell_type": "code",
   "execution_count": 41,
   "metadata": {},
   "outputs": [
    {
     "data": {
      "image/png": "[encoded data removed]",
      "text/plain": [
       "<Figure size 432x288 with 1 Axes>"
      ]
     },
     "metadata": {},
     "output_type": "display_data"
    }
   ],
   "source": [
    "plot_figure( x, u0, u0 )"
   ]
  },
  {
   "cell_type": "code",
   "execution_count": 42,
   "metadata": {},
   "outputs": [],
   "source": [
    "u = u0.copy()\n",
    "for n in range( nt ):\n",
    "    \n",
    "    un = u.copy()\n",
    "    \n",
    "    for i in range( 1, nx ):\n",
    "        \n",
    "        u[ i ] = un[ i ] - c * dt / dx * ( un[ i ] - un[ i - 1 ] )"
   ]
  },
  {
   "cell_type": "code",
   "execution_count": 43,
   "metadata": {},
   "outputs": [
    {
     "data": {
      "image/png": "[encoded data removed]",
      "text/plain": [
       "<Figure size 432x288 with 1 Axes>"
      ]
     },
     "metadata": {},
     "output_type": "display_data"
    }
   ],
   "source": [
    "plot_figure( x, u0, u )"
   ]
  },
  {
   "cell_type": "markdown",
   "metadata": {},
   "source": [
    "# 1D Non-Linear Convection"
   ]
  },
  {
   "cell_type": "code",
   "execution_count": 44,
   "metadata": {},
   "outputs": [],
   "source": [
    "u1 = u0.copy()\n",
    "for n in range( nt ):\n",
    "    \n",
    "    un1 = u1.copy()\n",
    "    \n",
    "    for i in range( 1, nx ):\n",
    "        \n",
    "        u1[ i ] = un1[ i ] - un1[ i ] * dt / dx * ( un1[ i ] - un1[ i - 1 ] )"
   ]
  },
  {
   "cell_type": "code",
   "execution_count": 45,
   "metadata": {},
   "outputs": [
    {
     "data": {
      "image/png": "[encoded data removed]",
      "text/plain": [
       "<Figure size 432x288 with 1 Axes>"
      ]
     },
     "metadata": {},
     "output_type": "display_data"
    }
   ],
   "source": [
    "plot_figure( x, u0, u1 )"
   ]
  },
  {
   "cell_type": "code",
   "execution_count": 49,
   "metadata": {},
   "outputs": [],
   "source": [
    "u1 = u0.copy()\n",
    "for n in range( nt ):\n",
    "    \n",
    "    un1 = u1.copy()\n",
    "    \n",
    "#     for i in range( 1, nx ):\n",
    "        \n",
    "#         u1[ i ] = un1[ i ] - un1[ i ] * dt / dx * ( un1[ i ] - un1[ i - 1 ] )\n",
    "        \n",
    "    u1[ 1: ] = un1[ 1: ] - un1[ 1: ] * dt / dx * ( un1[ 1: ] - un1[ :-1 ] )"
   ]
  },
  {
   "cell_type": "code",
   "execution_count": 50,
   "metadata": {},
   "outputs": [
    {
     "data": {
      "image/png": "[encoded data removed]",
      "text/plain": [
       "<Figure size 432x288 with 1 Axes>"
      ]
     },
     "metadata": {},
     "output_type": "display_data"
    }
   ],
   "source": [
    "plot_figure( x, u0, u1)"
   ]
  },
  {
   "cell_type": "code",
   "execution_count": null,
   "metadata": {},
   "outputs": [],
   "source": []
  }
 ],
 "metadata": {
  "kernelspec": {
   "display_name": "Python 3",
   "language": "python",
   "name": "python3"
  },
  "language_info": {
   "codemirror_mode": {
    "name": "ipython",
    "version": 3
   },
   "file_extension": ".py",
   "mimetype": "text/x-python",
   "name": "python",
   "nbconvert_exporter": "python",
   "pygments_lexer": "ipython3",
   "version": "3.6.2"
  }
 },
 "nbformat": 4,
 "nbformat_minor": 2
}
