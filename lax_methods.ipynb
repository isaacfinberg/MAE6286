{
 "cells": [
  {
   "cell_type": "code",
   "execution_count": 2,
   "metadata": {},
   "outputs": [],
   "source": [
    "import numpy\n",
    "from matplotlib import pyplot\n",
    "import ipywidgets\n",
    "%matplotlib inline"
   ]
  },
  {
   "cell_type": "code",
   "execution_count": 3,
   "metadata": {},
   "outputs": [],
   "source": [
    "pyplot.rc('font', family='serif', size=16)"
   ]
  },
  {
   "cell_type": "code",
   "execution_count": 6,
   "metadata": {},
   "outputs": [],
   "source": [
    "def rho_red_light( x, rho_max ):\n",
    "    \n",
    "    rho = numpy.full_like( x, rho_max )\n",
    "    mask = numpy.where( x < 3 )\n",
    "    rho[ mask ] /= 2\n",
    "    \n",
    "    return rho"
   ]
  },
  {
   "cell_type": "code",
   "execution_count": 7,
   "metadata": {},
   "outputs": [],
   "source": [
    "# Set parameters\n",
    "\n",
    "nx = 81\n",
    "L = 4.\n",
    "dx = L / ( nx - 1 )\n",
    "x = numpy.linspace( 0., L, nx )\n",
    "\n",
    "rho_max = 10.\n",
    "u_max = 1.\n",
    "\n",
    "rho0 = rho_red_light( x, rho_max )"
   ]
  },
  {
   "cell_type": "code",
   "execution_count": 8,
   "metadata": {},
   "outputs": [],
   "source": [
    "def plot( n, x, rho_hist ):\n",
    "    \n",
    "    pyplot.figure()\n",
    "    pyplot.grid()\n",
    "    pyplot.title( 'Time step: {}'.format( n ) )\n",
    "    pyplot.xlabel( 'Road [km]' )\n",
    "    pyplot.ylabel( 'Traffic density [cars/hour]' )\n",
    "    pyplot.plot( x, rho_hist[ n ] )\n",
    "    pyplot.xlim( x[ 0 ], x[ -1 ] )\n",
    "    pyplot.ylim( 4., 11. )\n",
    "    pyplot.show()\n",
    "    "
   ]
  },
  {
   "cell_type": "code",
   "execution_count": 9,
   "metadata": {},
   "outputs": [
    {
     "data": {
      "image/png": "[encoded data removed]",
      "text/plain": [
       "<Figure size 432x288 with 1 Axes>"
      ]
     },
     "metadata": {
      "needs_background": "light"
     },
     "output_type": "display_data"
    }
   ],
   "source": [
    "plot( 0, x, [ rho0 ] )"
   ]
  },
  {
   "cell_type": "code",
   "execution_count": 40,
   "metadata": {},
   "outputs": [],
   "source": [
    "def traffic_speed( rho, u_max, rho_max ):\n",
    "    \n",
    "    return u_max * ( 1 - rho / rho_max )\n",
    "\n",
    "def traffic_flux( rho, u_max, rho_max ):\n",
    "    \n",
    "    return rho * traffic_speed( rho, u_max, rho_max )"
   ]
  },
  {
   "cell_type": "code",
   "execution_count": 58,
   "metadata": {},
   "outputs": [],
   "source": [
    "def interactive_plot( x, rho_hist ):\n",
    "    \n",
    "    nt = len( rho_hist ) - 1\n",
    "    nt_slider = ipywidgets.IntSlider( value = 0, min = 0, max = nt, step = 1, description = 'Time step' )\n",
    "    w = ipywidgets.interactive( plot, n = nt_slider, x = ipywidgets.fixed( x ), rho_hist = ipywidgets.fixed( rho_hist ) )\n",
    "    \n",
    "    \n",
    "    return w"
   ]
  },
  {
   "cell_type": "code",
   "execution_count": 59,
   "metadata": {},
   "outputs": [
    {
     "data": {
      "application/vnd.jupyter.widget-view+json": {
       "model_id": "16ce20bc9a48412f8c6283f4458cada4",
       "version_major": 2,
       "version_minor": 0
      },
      "text/plain": [
       "interactive(children=(IntSlider(value=0, description='Time step', max=0), Output()), _dom_classes=('widget-int…"
      ]
     },
     "metadata": {},
     "output_type": "display_data"
    }
   ],
   "source": [
    "interactive_plot( x, [ rho0 ] )"
   ]
  },
  {
   "cell_type": "code",
   "execution_count": 67,
   "metadata": {},
   "outputs": [],
   "source": [
    "def lax_friedrichs( rho0, nt, dt, dx, u_max, rho_max ):\n",
    "    \n",
    "    rho = rho0.copy()\n",
    "    rho_hist = [ rho0.copy() ]\n",
    "    \n",
    "    for n in range( nt ):\n",
    "        \n",
    "        rho_n = rho.copy()\n",
    "        flux = traffic_flux( rho_n, u_max, rho_max )\n",
    "        rho[ 1:-1 ] = -( flux[ 2: ] - flux[ :-2 ] ) * dt / ( 2 * dx ) + .5 * ( rho_n[ :-2 ] + rho_n[ 2: ] )\n",
    "        rho_hist.append( rho.copy() )\n",
    "    \n",
    "    return rho_hist"
   ]
  },
  {
   "cell_type": "code",
   "execution_count": 72,
   "metadata": {},
   "outputs": [],
   "source": [
    "nt = 40\n",
    "sigma = 1.\n",
    "dt = sigma * dx / u_max\n",
    "rho_hist = lax_friedrichs( rho0, nt, dt, dx, u_max, rho_max )"
   ]
  },
  {
   "cell_type": "code",
   "execution_count": 73,
   "metadata": {},
   "outputs": [
    {
     "data": {
      "application/vnd.jupyter.widget-view+json": {
       "model_id": "5aabda6ec65d45abb7b922348cf35e14",
       "version_major": 2,
       "version_minor": 0
      },
      "text/plain": [
       "interactive(children=(IntSlider(value=0, description='Time step', max=40), Output()), _dom_classes=('widget-in…"
      ]
     },
     "metadata": {},
     "output_type": "display_data"
    }
   ],
   "source": [
    "interactive_plot( x, rho_hist )"
   ]
  },
  {
   "cell_type": "code",
   "execution_count": 76,
   "metadata": {},
   "outputs": [],
   "source": [
    "nt = 80\n",
    "sigma = .5\n",
    "dt = sigma * dx / u_max\n",
    "rho_hist = lax_friedrichs( rho0, nt, dt, dx, u_max, rho_max )"
   ]
  },
  {
   "cell_type": "code",
   "execution_count": 77,
   "metadata": {},
   "outputs": [
    {
     "data": {
      "application/vnd.jupyter.widget-view+json": {
       "model_id": "e89c6220d8a64f18928b783834a30794",
       "version_major": 2,
       "version_minor": 0
      },
      "text/plain": [
       "interactive(children=(IntSlider(value=0, description='Time step', max=80), Output()), _dom_classes=('widget-in…"
      ]
     },
     "metadata": {},
     "output_type": "display_data"
    }
   ],
   "source": [
    "interactive_plot( x, rho_hist )"
   ]
  },
  {
   "cell_type": "code",
   "execution_count": 84,
   "metadata": {},
   "outputs": [],
   "source": [
    "def traffic_jacobian( rho, u_max, rho_max ):\n",
    "    \n",
    "    J = u_max * ( 1 - 2 * rho / rho_max )\n",
    "    \n",
    "    return J\n",
    "\n",
    "def lax_wendroff( rho0, nt, dt, dx, u_max, rho_max ):\n",
    "    \n",
    "    rho = rho0.copy()\n",
    "    rho_hist = [ rho0.copy() ]\n",
    "    \n",
    "    for n in range( nt ):\n",
    "        \n",
    "        rho_n = rho.copy()\n",
    "        flux = traffic_flux( rho_n, u_max, rho_max )\n",
    "        J = traffic_jacobian( rho_n, u_max, rho_max )\n",
    "        rho[ 1:-1 ] = ( rho_n[ 1:-1 ] - dt / ( 2 * dx ) * ( flux[ 2: ] - flux[ :-2 ] ) + dt**2 / ( 4 * dx**2 ) * \n",
    "                      ( ( J[ 1:-1 ] + J[ 2: ] ) * ( flux[ 2: ] - flux[ 1:-1 ] ) - ( J[ :-2 ] + J[ 1:-1 ] ) * \n",
    "                      ( flux[ 1:-1 ] - flux[ :-2 ] ) ) ) \n",
    "        rho_hist.append( rho.copy() )\n",
    "    \n",
    "    return rho_hist"
   ]
  },
  {
   "cell_type": "code",
   "execution_count": 85,
   "metadata": {},
   "outputs": [],
   "source": [
    "nt = 40\n",
    "sigma = 1.\n",
    "dt = sigma * dx / u_max\n",
    "rho_hist = lax_wendroff( rho0, nt, dt, dx, u_max, rho_max )"
   ]
  },
  {
   "cell_type": "code",
   "execution_count": 86,
   "metadata": {},
   "outputs": [
    {
     "data": {
      "application/vnd.jupyter.widget-view+json": {
       "model_id": "c6db908394ad4c8282108e5206c581ca",
       "version_major": 2,
       "version_minor": 0
      },
      "text/plain": [
       "interactive(children=(IntSlider(value=0, description='Time step', max=40), Output()), _dom_classes=('widget-in…"
      ]
     },
     "metadata": {},
     "output_type": "display_data"
    }
   ],
   "source": [
    "interactive_plot( x, rho_hist )"
   ]
  },
  {
   "cell_type": "code",
   "execution_count": 87,
   "metadata": {},
   "outputs": [],
   "source": [
    "nt = 80\n",
    "sigma = .5\n",
    "dt = sigma * dx / u_max\n",
    "rho_hist = lax_wendroff( rho0, nt, dt, dx, u_max, rho_max )"
   ]
  },
  {
   "cell_type": "code",
   "execution_count": 88,
   "metadata": {},
   "outputs": [
    {
     "data": {
      "application/vnd.jupyter.widget-view+json": {
       "model_id": "b5d359be25004d87b8d2d4a290c3d82f",
       "version_major": 2,
       "version_minor": 0
      },
      "text/plain": [
       "interactive(children=(IntSlider(value=0, description='Time step', max=80), Output()), _dom_classes=('widget-in…"
      ]
     },
     "metadata": {},
     "output_type": "display_data"
    }
   ],
   "source": [
    "interactive_plot( x, rho_hist )"
   ]
  },
  {
   "cell_type": "code",
   "execution_count": null,
   "metadata": {},
   "outputs": [],
   "source": []
  }
 ],
 "metadata": {
  "kernelspec": {
   "display_name": "Python 3",
   "language": "python",
   "name": "python3"
  },
  "language_info": {
   "codemirror_mode": {
    "name": "ipython",
    "version": 3
   },
   "file_extension": ".py",
   "mimetype": "text/x-python",
   "name": "python",
   "nbconvert_exporter": "python",
   "pygments_lexer": "ipython3",
   "version": "3.7.3"
  }
 },
 "nbformat": 4,
 "nbformat_minor": 2
}
